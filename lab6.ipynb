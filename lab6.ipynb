{
 "cells": [
  {
   "cell_type": "markdown",
   "metadata": {},
   "source": [
    "#### публично доступные переменные"
   ]
  },
  {
   "cell_type": "code",
   "execution_count": 1,
   "metadata": {},
   "outputs": [],
   "source": [
    "sharedPrime = 23    # p\n",
    "sharedBase = 5      # g"
   ]
  },
  {
   "cell_type": "code",
   "execution_count": 2,
   "metadata": {},
   "outputs": [],
   "source": [
    "aliceSecret = 6\n",
    "bobSecret = 15\n",
    "carolSecret = 16\n",
    "daveSecret = 22"
   ]
  },
  {
   "cell_type": "markdown",
   "metadata": {},
   "source": [
    "#### Элис отправляет Бобу `A = g**a % p`"
   ]
  },
  {
   "cell_type": "code",
   "execution_count": 3,
   "metadata": {},
   "outputs": [
    {
     "data": {
      "text/plain": [
       "8"
      ]
     },
     "execution_count": 3,
     "metadata": {},
     "output_type": "execute_result"
    }
   ],
   "source": [
    "A = (sharedBase**aliceSecret) % sharedPrime\n",
    "A"
   ]
  },
  {
   "cell_type": "markdown",
   "metadata": {},
   "source": [
    "#### Боб отправляет Элис `B = g**b % p` "
   ]
  },
  {
   "cell_type": "code",
   "execution_count": 4,
   "metadata": {},
   "outputs": [
    {
     "data": {
      "text/plain": [
       "19"
      ]
     },
     "execution_count": 4,
     "metadata": {},
     "output_type": "execute_result"
    }
   ],
   "source": [
    "B = (sharedBase ** bobSecret) % sharedPrime\n",
    "B"
   ]
  },
  {
   "cell_type": "markdown",
   "metadata": {},
   "source": [
    "#### Элис и Боб вычисляют ключ"
   ]
  },
  {
   "cell_type": "code",
   "execution_count": 5,
   "metadata": {},
   "outputs": [
    {
     "name": "stdout",
     "output_type": "stream",
     "text": [
      "Ключ Элис:\t 2\n",
      "Ключ Боба:\t 2\n",
      "Совпадение:\t True\n"
     ]
    }
   ],
   "source": [
    "aliceSharedSecret = (B ** aliceSecret) % sharedPrime\n",
    "bobSharedSecret = (A**bobSecret) % sharedPrime\n",
    "print('Ключ Элис:\\t', aliceSharedSecret)\n",
    "print('Ключ Боба:\\t', bobSharedSecret)\n",
    "alice_bob_secret = bobSharedSecret\n",
    "print('Совпадение:\\t', aliceSharedSecret == bobSharedSecret)"
   ]
  },
  {
   "cell_type": "markdown",
   "metadata": {},
   "source": [
    "#### Боб отправляет ключ Кэрол `A = g**a % p`"
   ]
  },
  {
   "cell_type": "code",
   "execution_count": 6,
   "metadata": {},
   "outputs": [
    {
     "data": {
      "text/plain": [
       "19"
      ]
     },
     "execution_count": 6,
     "metadata": {},
     "output_type": "execute_result"
    }
   ],
   "source": [
    "A = (sharedBase**bobSecret) % sharedPrime\n",
    "A"
   ]
  },
  {
   "cell_type": "markdown",
   "metadata": {},
   "source": [
    "#### Кэрол отправляет ключ  Бобу  `B = g**b % p`"
   ]
  },
  {
   "cell_type": "code",
   "execution_count": 7,
   "metadata": {},
   "outputs": [
    {
     "data": {
      "text/plain": [
       "3"
      ]
     },
     "execution_count": 7,
     "metadata": {},
     "output_type": "execute_result"
    }
   ],
   "source": [
    "B = (sharedBase**carolSecret) % sharedPrime\n",
    "B"
   ]
  },
  {
   "cell_type": "markdown",
   "metadata": {},
   "source": [
    "#### Боб и Кэрол вычисляют ключ"
   ]
  },
  {
   "cell_type": "code",
   "execution_count": 8,
   "metadata": {},
   "outputs": [
    {
     "name": "stdout",
     "output_type": "stream",
     "text": [
      "Ключ Кэрол:\t 12\n",
      "Ключ Боба:\t 12\n",
      "Совпадение:\t True\n"
     ]
    }
   ],
   "source": [
    "carolSharedSecret = (A**carolSecret) % sharedPrime\n",
    "bobSharedSecret = (B**bobSecret) % sharedPrime\n",
    "print('Ключ Кэрол:\\t', carolSharedSecret)\n",
    "print('Ключ Боба:\\t', bobSharedSecret)\n",
    "bob_carol_secret = bobSharedSecret\n",
    "print('Совпадение:\\t', carolSharedSecret == bobSharedSecret)"
   ]
  },
  {
   "cell_type": "markdown",
   "metadata": {},
   "source": [
    "#### Кэрол отправляет ключ Дейву `A = g**a % p`"
   ]
  },
  {
   "cell_type": "code",
   "execution_count": 9,
   "metadata": {},
   "outputs": [
    {
     "data": {
      "text/plain": [
       "3"
      ]
     },
     "execution_count": 9,
     "metadata": {},
     "output_type": "execute_result"
    }
   ],
   "source": [
    "A = (sharedBase**carolSecret) % sharedPrime\n",
    "A"
   ]
  },
  {
   "cell_type": "markdown",
   "metadata": {},
   "source": [
    "#### Дэйв отправляет ключ Кэрол ` B = g**b % p`"
   ]
  },
  {
   "cell_type": "code",
   "execution_count": 10,
   "metadata": {},
   "outputs": [
    {
     "data": {
      "text/plain": [
       "1"
      ]
     },
     "execution_count": 10,
     "metadata": {},
     "output_type": "execute_result"
    }
   ],
   "source": [
    "B = (sharedBase**daveSecret) % sharedPrime\n",
    "B"
   ]
  },
  {
   "cell_type": "markdown",
   "metadata": {},
   "source": [
    "#### Кэрол и Дэйв вычисляют ключ"
   ]
  },
  {
   "cell_type": "code",
   "execution_count": 11,
   "metadata": {},
   "outputs": [
    {
     "name": "stdout",
     "output_type": "stream",
     "text": [
      "Ключ Кэрол:\t 1\n",
      "Ключ Дейва:\t 1\n",
      "Совпадение:\t True\n"
     ]
    }
   ],
   "source": [
    "carolSharedSecret = (B**carolSecret) % sharedPrime\n",
    "daveSharedSecret = (A**daveSecret) % sharedPrime\n",
    "print('Ключ Кэрол:\\t', carolSharedSecret)\n",
    "print('Ключ Дейва:\\t', daveSharedSecret)\n",
    "dave_carol_secret = daveSharedSecret\n",
    "print('Совпадение:\\t', carolSharedSecret == daveSharedSecret)"
   ]
  },
  {
   "cell_type": "markdown",
   "metadata": {},
   "source": [
    "#### Дейв отправляет Элис `A = g**a % p`"
   ]
  },
  {
   "cell_type": "code",
   "execution_count": 12,
   "metadata": {},
   "outputs": [
    {
     "data": {
      "text/plain": [
       "1"
      ]
     },
     "execution_count": 12,
     "metadata": {},
     "output_type": "execute_result"
    }
   ],
   "source": [
    "A = (sharedBase**daveSecret) % sharedPrime\n",
    "A"
   ]
  },
  {
   "cell_type": "markdown",
   "metadata": {},
   "source": [
    "#### Элис отправляет  Дейву `B = g**b % p`"
   ]
  },
  {
   "cell_type": "code",
   "execution_count": 13,
   "metadata": {},
   "outputs": [
    {
     "data": {
      "text/plain": [
       "8"
      ]
     },
     "execution_count": 13,
     "metadata": {},
     "output_type": "execute_result"
    }
   ],
   "source": [
    "B = (sharedBase**aliceSecret) % sharedPrime\n",
    "B"
   ]
  },
  {
   "cell_type": "markdown",
   "metadata": {},
   "source": [
    "#### Элис и Дейв вычисляют ключ"
   ]
  },
  {
   "cell_type": "code",
   "execution_count": 14,
   "metadata": {},
   "outputs": [
    {
     "name": "stdout",
     "output_type": "stream",
     "text": [
      "Ключ Элис:\t 1\n",
      "Ключ Дейв:\t 1\n",
      "Совпадение:\t True\n"
     ]
    }
   ],
   "source": [
    "aliceSharedSecret = (A**aliceSecret) % sharedPrime\n",
    "daveSharedSecret = (B**daveSecret) % sharedPrime\n",
    "print('Ключ Элис:\\t', aliceSharedSecret)\n",
    "print('Ключ Дейв:\\t', daveSharedSecret)\n",
    "dave_alice_secret = daveSharedSecret\n",
    "print('Совпадение:\\t', aliceSharedSecret == daveSharedSecret)"
   ]
  },
  {
   "cell_type": "markdown",
   "metadata": {},
   "source": [
    "#### ключи"
   ]
  },
  {
   "cell_type": "code",
   "execution_count": 15,
   "metadata": {},
   "outputs": [
    {
     "name": "stdout",
     "output_type": "stream",
     "text": [
      "alice_bob_secret 2\n",
      "bob_carol_secret 12\n",
      "dave_carol_secret 1\n",
      "dave_alice_secret 1\n"
     ]
    }
   ],
   "source": [
    "print(\"alice_bob_secret\",alice_bob_secret)\n",
    "print(\"bob_carol_secret\",bob_carol_secret)\n",
    "print(\"dave_carol_secret\",dave_carol_secret)\n",
    "print(\"dave_alice_secret\",dave_alice_secret)"
   ]
  }
 ],
 "metadata": {
  "kernelspec": {
   "display_name": "Python 3",
   "language": "python",
   "name": "python3"
  },
  "language_info": {
   "codemirror_mode": {
    "name": "ipython",
    "version": 3
   },
   "file_extension": ".py",
   "mimetype": "text/x-python",
   "name": "python",
   "nbconvert_exporter": "python",
   "pygments_lexer": "ipython3",
   "version": "3.7.0b4"
  }
 },
 "nbformat": 4,
 "nbformat_minor": 2
}
