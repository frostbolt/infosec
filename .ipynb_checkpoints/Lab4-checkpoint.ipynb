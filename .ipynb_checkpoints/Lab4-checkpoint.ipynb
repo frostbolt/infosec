{
 "cells": [
  {
   "cell_type": "code",
   "execution_count": 1,
   "metadata": {},
   "outputs": [],
   "source": [
    "import numpy as np\n",
    "import itertools"
   ]
  },
  {
   "cell_type": "code",
   "execution_count": 2,
   "metadata": {},
   "outputs": [],
   "source": [
    "STRANGE_PAIRINGS = [\"ГЪ\",\"КЩ\",\"ЩФ\",\"ЩЗ\",\"ЭЩ\",\"ЩК\",\"ГЩ\",\"ЩП\",\"ЩТ\",\"ЩШ\",\n",
    "                    \"ЩГ\",\"ЩМ\",\"ФЩ\",\"ЩЛ\",\"ЩД\",\"ДЩ\",\"ЧЦ\",\"ВЙ\",\"ЙА\",\"ШЯ\",\n",
    "                    \"ШЫ\",\"ГЮ\",\"ХЯ\",\"ЙЫ\",\"ЦЯ\",\"ГЬ\",\"СЙ\",\"ХЮ\",\"ЪЖ\",\"ЪД\",\n",
    "                    \"УЬ\",\"ЩЧ\",\"ЧЙ\",\"ШЙ\",\"ШЗ\",\"ЫФ\",\"ЖЩ\",\"ЖШ\",\"ЖЦ\",\"ЫЪ\",\n",
    "                    \"ЫЭ\",\"ЫЮ\",\"ЫЬ\",\"ЖЙ\",\"ЫЫ\",\"ЖЪ\",\"ЖЫ\",\"ЪШ\",\"ПЙ\",\"ЪЩ\",\n",
    "                    \"ЗЩ\",\"ЪЧ\",\"ЪЦ\",\"ЪУ\",\"ЪФ\",\"ЪХ\",\"ЪЪ\",\"ЪЫ\",\"ЫО\",\"ЖЯ\",\n",
    "                    \"ЗЙ\",\"ЪЬ\",\"ЪЭ\",\"ЫА\",\"НЙ\",\"ЕЬ\",\"ЦЙ\",\"ЬЙ\",\"ЬЛ\",\"ЬР\",\"ПЪ\",\n",
    "                    \"ЕЫ\",\"ЕЪ\",\"ЬА\",\"ШЪ\",\"ЪТ\",\"ЩС\",\"ОЬ\",\"КЪ\",\"ОЫ\",\"ЩХ\",\n",
    "                    \"ЩЩ\",\"ЩЪ\",\"ЩЦ\",\"КЙ\",\"ОЪ\",\"ЦЩ\",\"ЛЪ\",\"МЙ\",\"ШЩ\",\"ЦЬ\",\n",
    "                    \"ЦЪ\",\"ЩЙ\",\"ЙЬ\",\"ЪГ\",\"ИЪ\",\"ЪБ\",\"ЪВ\",\"ЪИ\",\"ЪЙ\",\"ЪП\",\n",
    "                    \"ЪР\",\"ЪС\",\"ЪО\",\"ЪН\",\"ЪК\",\"ЪЛ\",\"ЪМ\",\"ИЫ\",\"ИЬ\",\"ЙУ\",\n",
    "                    \"ЩЭ\",\"ЙЫ\",\"ЙЪ\",\"ЩЫ\",\"ЩЮ\",\"ЩЯ\",\"ЪА\",\"МЪ\",\"ЙЙ\",\"ЙЖ\",\n",
    "                    \"ЬУ\",\"ГЙ\",\"ЭЪ\",\"УЪ\",\"АЬ\",\"ЧЪ\",\"ХЙ\",\"ТЙ\",\"ЧЩ\",\"РЪ\",\n",
    "                    \"ЮЪ\",\"ФЪ\",\"УЫ\",\"АЪ\",\"ЮЬ\",\"АЫ\",\"ЮЫ\",\"ЭЬ\",\"ЭЫ\",\"БЙ\",\n",
    "                    \"ЯЬ\",\"ЬЫ\",\"ЬЬ\",\"ЬЪ\",\"ЯЪ\",\"ЯЫ\",\"ХЩ\",\"ДЙ\",\"ФЙ\"]\n",
    "STRING_TO_DECODE = 'ФТБЕОЗРЬЩМАОСЕОИАОИНШВОНЖ'\n",
    "BROKEN_KEY = 'XX5X1'\n",
    "NUMBERS = range(1,len(BROKEN_KEY) + 1)\n",
    "BROKEN_SYMBOLS_COUNT = BROKEN_KEY.count('X')"
   ]
  },
  {
   "cell_type": "code",
   "execution_count": 3,
   "metadata": {},
   "outputs": [
    {
     "name": "stdout",
     "output_type": "stream",
     "text": [
      "['23541' '24531' '32541' '34521' '42531' '43521']\n"
     ]
    }
   ],
   "source": [
    "def fill_in_the_X(key, arr):\n",
    "    for i in range(BROKEN_SYMBOLS_COUNT):\n",
    "        key = key.replace('X', str(arr[i]), 1)\n",
    "    if len(set(key)) == len(key): return key\n",
    "\n",
    "def generate_all_possible_keys():\n",
    "    combinations = np.array(list(itertools.permutations(NUMBERS, BROKEN_SYMBOLS_COUNT)))\n",
    "    lambda_filler = lambda x: fill_in_the_X(BROKEN_KEY, x)\n",
    "    dirty_key_list = np.array([lambda_filler(xi) for xi in combinations])\n",
    "    return np.delete(dirty_key_list, np.where(dirty_key_list == None), axis = 0)\n",
    "\n",
    "ALL_POSSIBLE_KEYS = generate_all_possible_keys()\n",
    "print(ALL_POSSIBLE_KEYS)"
   ]
  },
  {
   "cell_type": "code",
   "execution_count": 4,
   "metadata": {},
   "outputs": [
    {
     "name": "stdout",
     "output_type": "stream",
     "text": [
      "[['Ф' 'Т' 'Б' 'Е' 'О']\n",
      " ['З' 'Р' 'Ь' 'Щ' 'М']\n",
      " ['А' 'О' 'С' 'Е' 'О']\n",
      " ['И' 'А' 'О' 'И' 'Н']\n",
      " ['Ш' 'В' 'О' 'Н' 'Ж']]\n"
     ]
    }
   ],
   "source": [
    "def devide_by_cols(string, cols):\n",
    "    return np.array(list(zip(*[list(string)[i::cols] for i in range(cols)])))\n",
    "\n",
    "MATRIX = devide_by_cols(STRING_TO_DECODE, len(BROKEN_KEY))\n",
    "print(MATRIX)"
   ]
  },
  {
   "cell_type": "code",
   "execution_count": 5,
   "metadata": {},
   "outputs": [
    {
     "name": "stdout",
     "output_type": "stream",
     "text": [
      "[['З' 'А' 'Ш' 'И' 'Ф']\n",
      " ['Р' 'О' 'В' 'А' 'Т']\n",
      " ['Ь' 'С' 'О' 'О' 'Б']\n",
      " ['Щ' 'Е' 'Н' 'И' 'Е']\n",
      " ['М' 'О' 'Ж' 'Н' 'О']]\n",
      "[2 3 5 4 1] ЗАШИФРОВАТЬСООБЩЕНИЕМОЖНО \n",
      "\n",
      "[['З' 'И' 'Ш' 'А' 'Ф']\n",
      " ['Р' 'А' 'В' 'О' 'Т']\n",
      " ['Ь' 'О' 'О' 'С' 'Б']\n",
      " ['Щ' 'И' 'Н' 'Е' 'Е']\n",
      " ['М' 'Н' 'Ж' 'О' 'О']]\n",
      "[2 4 5 3 1] ЗИШАФРАВОТЬООСБЩИНЕЕМНЖОО \n",
      "\n",
      "[['А' 'З' 'Ш' 'И' 'Ф']\n",
      " ['О' 'Р' 'В' 'А' 'Т']\n",
      " ['С' 'Ь' 'О' 'О' 'Б']\n",
      " ['Е' 'Щ' 'Н' 'И' 'Е']\n",
      " ['О' 'М' 'Ж' 'Н' 'О']]\n",
      "[3 2 5 4 1] АЗШИФОРВАТСЬООБЕЩНИЕОМЖНО \n",
      "\n"
     ]
    }
   ],
   "source": [
    "def has_strange_parings(str):\n",
    "    for paring in STRANGE_PAIRINGS:\n",
    "        if (str.find(paring) != -1): return True\n",
    "    return False\n",
    "\n",
    "for key in ALL_POSSIBLE_KEYS:\n",
    "    key = np.array([int(x) for x in list(key)])    \n",
    "    result_matrix = MATRIX[key-1].transpose()\n",
    "    result_string = \"\".join(result_matrix.ravel())\n",
    "    \n",
    "    if not has_strange_parings(result_string):\n",
    "        print(result_matrix)\n",
    "        print(key, result_string,'\\n')"
   ]
  }
 ],
 "metadata": {
  "kernelspec": {
   "display_name": "Python 3",
   "language": "python",
   "name": "python3"
  },
  "language_info": {
   "codemirror_mode": {
    "name": "ipython",
    "version": 3
   },
   "file_extension": ".py",
   "mimetype": "text/x-python",
   "name": "python",
   "nbconvert_exporter": "python",
   "pygments_lexer": "ipython3",
   "version": "3.7.0b4"
  }
 },
 "nbformat": 4,
 "nbformat_minor": 2
}
