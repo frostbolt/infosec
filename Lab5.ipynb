{
 "cells": [
  {
   "cell_type": "code",
   "execution_count": 1,
   "metadata": {},
   "outputs": [],
   "source": [
    "import numpy as np"
   ]
  },
  {
   "cell_type": "markdown",
   "metadata": {},
   "source": [
    "#### подготовка строки, подбор размерности трафарета шифр-таблицы"
   ]
  },
  {
   "cell_type": "code",
   "execution_count": 2,
   "metadata": {},
   "outputs": [
    {
     "name": "stdout",
     "output_type": "stream",
     "text": [
      "размерность решетки: [4, 8]\n"
     ]
    }
   ],
   "source": [
    "STRING_TO_ENCODE = \"НЕБЫВАЛЫЕСКИДКИНАВСЕКРИПТОВАЛЮТЫ\"\n",
    "\n",
    "def prepare_string(string):\n",
    "    \"\"\"append additional spaces so `len(string) % 4 == 0`\"\"\"\n",
    "    return string + ' ' *  ((4 - len(string) % 4) % 4)\n",
    "\n",
    "def get_possible_dims(str_len):\n",
    "    res= []\n",
    "    for x in range(1, int(str_len**.5 +1)):\n",
    "        if (str_len % x == 0 and (str_len // x) % 2 == 0 and x % 2 == 0):\n",
    "            res.append([x,str_len//x])\n",
    "    return res\n",
    "\n",
    "string_to_encode = prepare_string(STRING_TO_ENCODE)\n",
    "N, M = sorted(get_possible_dims(len(string_to_encode)), key = lambda x: (x[0] - x[1])**2)[0]\n",
    "print('размерность решетки: [{}, {}]'.format(N, M))"
   ]
  },
  {
   "cell_type": "markdown",
   "metadata": {},
   "source": [
    "#### генерация трафарета шифр-таблицы"
   ]
  },
  {
   "cell_type": "code",
   "execution_count": 3,
   "metadata": {},
   "outputs": [
    {
     "name": "stdout",
     "output_type": "stream",
     "text": [
      "[[0 0 2 0 0 2 0 0]\n",
      " [0 0 0 2 2 0 0 0]\n",
      " [0 0 0 2 2 0 0 0]\n",
      " [0 0 2 0 0 2 0 0]]\n"
     ]
    }
   ],
   "source": [
    "def generate_grid(N, M):\n",
    "    grid_pattern = np.random.randint(4, size = (N // 2, M // 2))\n",
    "\n",
    "    grid_pattern_1quarter = grid_pattern\n",
    "    grid_pattern_2quarter = np.fliplr(grid_pattern)\n",
    "    grid_pattern_3quarter = np.rot90(np.rot90(grid_pattern))\n",
    "    grid_pattern_4quarter = np.flipud(grid_pattern)\n",
    "\n",
    "    grid = np.concatenate([grid_pattern_1quarter, grid_pattern_2quarter], axis=1)\n",
    "    grid = np.concatenate([grid, np.concatenate([grid_pattern_4quarter, grid_pattern_3quarter], axis=1)])\n",
    "    return grid\n",
    "\n",
    "pattern = generate_grid(N, M)\n",
    "print(1*pattern)"
   ]
  },
  {
   "cell_type": "markdown",
   "metadata": {},
   "source": [
    "#### кодирование"
   ]
  },
  {
   "cell_type": "code",
   "execution_count": 4,
   "metadata": {},
   "outputs": [
    {
     "data": {
      "text/plain": [
       "'НЕТБЫОВАЛЫЕВАСКИДКИЛЮНАВСЕТКРЫИП'"
      ]
     },
     "execution_count": 4,
     "metadata": {},
     "output_type": "execute_result"
    }
   ],
   "source": [
    "def fill_in_the_line_by_pattern(str_to_fiil_in, context, placeholder):\n",
    "    for i in range(str_to_fiil_in.count(placeholder)):\n",
    "        str_to_fiil_in = str_to_fiil_in.replace(placeholder, str(context[i]), 1)\n",
    "    return str_to_fiil_in\n",
    "\n",
    "def encode(pattern, str_to_encode):\n",
    "    code_string = \"\".join(map(str, 1*pattern.ravel()))    \n",
    "    for i in range(4):\n",
    "        symbols_to_be_filled = code_string.count(str(i))\n",
    "        code_string = fill_in_the_line_by_pattern(code_string, str_to_encode, str(i))\n",
    "        str_to_encode = str_to_encode[symbols_to_be_filled:]\n",
    "    return code_string\n",
    "\n",
    "encoded_str = encode(pattern, STRING_TO_ENCODE)\n",
    "encoded_str"
   ]
  },
  {
   "cell_type": "markdown",
   "metadata": {},
   "source": [
    "#### декодирование"
   ]
  },
  {
   "cell_type": "code",
   "execution_count": 5,
   "metadata": {},
   "outputs": [
    {
     "data": {
      "text/plain": [
       "'НЕБЫВАЛЫЕСКИДКИНАВСЕКРИПТОВАЛЮТЫ'"
      ]
     },
     "execution_count": 5,
     "metadata": {},
     "output_type": "execute_result"
    }
   ],
   "source": [
    "def decode(encoded_str, pattern):\n",
    "    encoded_str_joined_with_pattern = np.array(list(zip(\"\".join(map(str, pattern.ravel())), encoded_str)))\n",
    "    return \"\".join(np.array(sorted(encoded_str_joined_with_pattern, key=lambda x: int(x[0])))[:,1])\n",
    "\n",
    "decoded_str = decode(encoded_str, pattern)\n",
    "decoded_str"
   ]
  },
  {
   "cell_type": "markdown",
   "metadata": {},
   "source": [
    "#### совпадают ли исходная и декодированная строки?"
   ]
  },
  {
   "cell_type": "code",
   "execution_count": 6,
   "metadata": {},
   "outputs": [
    {
     "data": {
      "text/plain": [
       "True"
      ]
     },
     "execution_count": 6,
     "metadata": {},
     "output_type": "execute_result"
    }
   ],
   "source": [
    "STRING_TO_ENCODE == decoded_str"
   ]
  }
 ],
 "metadata": {
  "kernelspec": {
   "display_name": "Python 3",
   "language": "python",
   "name": "python3"
  },
  "language_info": {
   "codemirror_mode": {
    "name": "ipython",
    "version": 3
   },
   "file_extension": ".py",
   "mimetype": "text/x-python",
   "name": "python",
   "nbconvert_exporter": "python",
   "pygments_lexer": "ipython3",
   "version": "3.7.0b4"
  }
 },
 "nbformat": 4,
 "nbformat_minor": 2
}
